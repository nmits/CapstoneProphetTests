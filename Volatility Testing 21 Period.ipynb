{
 "cells": [
  {
   "cell_type": "code",
   "execution_count": 1,
   "metadata": {
    "collapsed": true
   },
   "outputs": [],
   "source": [
    "%matplotlib inline\n",
    "import sys\n",
    "import errno\n",
    "from fbprophet import Prophet\n",
    "from fbprophet.plot import add_changepoints_to_plot\n",
    "import pandas as pd\n",
    "import numpy as np\n",
    "from matplotlib import pyplot as plt\n",
    "import logging\n",
    "logging.getLogger('fbprophet').setLevel(logging.ERROR)\n",
    "import warnings\n",
    "warnings.filterwarnings(\"ignore\")"
   ]
  },
  {
   "cell_type": "markdown",
   "metadata": {},
   "source": [
    "Global variables that sets the type of coin evaluated, prediction distance, the range the volatility is calculated from, and the total number of the total "
   ]
  },
  {
   "cell_type": "code",
   "execution_count": 2,
   "metadata": {
    "collapsed": true
   },
   "outputs": [],
   "source": [
    "_coin_type = \"bitcoin\"\n",
    "_forecast_distance=5\n",
    "_volatility_range=21\n",
    "_subset_period = 15\n",
    "_number_subsets = 3\n",
    "_change_flex = 0.5"
   ]
  },
  {
   "cell_type": "markdown",
   "metadata": {},
   "source": [
    "Pulls the data from the appropriate csv file and saves it as a data frame"
   ]
  },
  {
   "cell_type": "code",
   "execution_count": 3,
   "metadata": {
    "collapsed": true
   },
   "outputs": [],
   "source": [
    "import requests\n",
    "\n",
    "POLONIEX_OHLCV_BASEURL = 'https://poloniex.com/public?command=returnChartData&currencyPair='\n",
    "\n",
    "def get_ohlcv_poloniex(pair='BTC_ETH', start=1435699200, end=9999999999, period=900):\n",
    "    \"\"\"\n",
    "    returns ohlcv data for poloniex as pandas dataframe\n",
    "    convert to unix timestamp using https://coderstoolbox.net/unixtimestamp/\n",
    "    :param pair: str pair on poloniex\n",
    "    :param start: int unix timestamp of beginning time\n",
    "    :param end: int unix timestamp of ending time\n",
    "    :param period: int candle width in seconds\n",
    "    :return: pandas df of ohlcv data from poloniex for specified pair, times, and period\n",
    "    \"\"\"\n",
    "    query = POLONIEX_OHLCV_BASEURL + pair + '&start=' + str(start) + '&end=' + str(end) + '&period=' + str(period)\n",
    "    resp = requests.get(query)\n",
    "\n",
    "    if resp.status_code != 200:\n",
    "        raise requests.ApiError('GET /tasks/ {}'.format(resp.status_code))\n",
    "\n",
    "    return pd.DataFrame(resp.json())"
   ]
  },
  {
   "cell_type": "code",
   "execution_count": 4,
   "metadata": {
    "collapsed": true
   },
   "outputs": [],
   "source": [
    "all_data = get_ohlcv_poloniex(pair='USDT_BTC', start=1483600958, end=9999999999, period=900)"
   ]
  },
  {
   "cell_type": "code",
   "execution_count": 5,
   "metadata": {
    "collapsed": true
   },
   "outputs": [],
   "source": [
    "# all_data = pd.read_csv(\"DataSources/\" + _coin_type + \"_hist.csv\")"
   ]
  },
  {
   "cell_type": "markdown",
   "metadata": {},
   "source": [
    "Prints frame data"
   ]
  },
  {
   "cell_type": "code",
   "execution_count": 6,
   "metadata": {},
   "outputs": [
    {
     "data": {
      "text/html": [
       "<div>\n",
       "<style scoped>\n",
       "    .dataframe tbody tr th:only-of-type {\n",
       "        vertical-align: middle;\n",
       "    }\n",
       "\n",
       "    .dataframe tbody tr th {\n",
       "        vertical-align: top;\n",
       "    }\n",
       "\n",
       "    .dataframe thead th {\n",
       "        text-align: right;\n",
       "    }\n",
       "</style>\n",
       "<table border=\"1\" class=\"dataframe\">\n",
       "  <thead>\n",
       "    <tr style=\"text-align: right;\">\n",
       "      <th></th>\n",
       "      <th>close</th>\n",
       "      <th>date</th>\n",
       "      <th>high</th>\n",
       "      <th>low</th>\n",
       "      <th>open</th>\n",
       "      <th>quoteVolume</th>\n",
       "      <th>volume</th>\n",
       "      <th>weightedAverage</th>\n",
       "    </tr>\n",
       "  </thead>\n",
       "  <tbody>\n",
       "    <tr>\n",
       "      <th>count</th>\n",
       "      <td>59196.000000</td>\n",
       "      <td>5.919600e+04</td>\n",
       "      <td>59196.000000</td>\n",
       "      <td>59196.000000</td>\n",
       "      <td>59196.000000</td>\n",
       "      <td>59196.000000</td>\n",
       "      <td>5.919600e+04</td>\n",
       "      <td>59196.000000</td>\n",
       "    </tr>\n",
       "    <tr>\n",
       "      <th>mean</th>\n",
       "      <td>5824.772890</td>\n",
       "      <td>1.510239e+09</td>\n",
       "      <td>5847.629526</td>\n",
       "      <td>5800.683728</td>\n",
       "      <td>5825.147580</td>\n",
       "      <td>71.028510</td>\n",
       "      <td>3.546225e+05</td>\n",
       "      <td>5824.271555</td>\n",
       "    </tr>\n",
       "    <tr>\n",
       "      <th>std</th>\n",
       "      <td>3969.995954</td>\n",
       "      <td>1.537970e+07</td>\n",
       "      <td>3991.888425</td>\n",
       "      <td>3946.715239</td>\n",
       "      <td>3970.453571</td>\n",
       "      <td>111.719318</td>\n",
       "      <td>6.284248e+05</td>\n",
       "      <td>3969.474450</td>\n",
       "    </tr>\n",
       "    <tr>\n",
       "      <th>min</th>\n",
       "      <td>756.000000</td>\n",
       "      <td>1.483601e+09</td>\n",
       "      <td>759.754000</td>\n",
       "      <td>751.000000</td>\n",
       "      <td>756.722973</td>\n",
       "      <td>0.000000</td>\n",
       "      <td>0.000000e+00</td>\n",
       "      <td>755.019113</td>\n",
       "    </tr>\n",
       "    <tr>\n",
       "      <th>25%</th>\n",
       "      <td>2317.000833</td>\n",
       "      <td>1.496920e+09</td>\n",
       "      <td>2327.000000</td>\n",
       "      <td>2305.515729</td>\n",
       "      <td>2317.287125</td>\n",
       "      <td>10.287996</td>\n",
       "      <td>4.287137e+04</td>\n",
       "      <td>2315.703750</td>\n",
       "    </tr>\n",
       "    <tr>\n",
       "      <th>50%</th>\n",
       "      <td>6175.695720</td>\n",
       "      <td>1.510239e+09</td>\n",
       "      <td>6189.000000</td>\n",
       "      <td>6160.000000</td>\n",
       "      <td>6176.721392</td>\n",
       "      <td>35.600170</td>\n",
       "      <td>1.531191e+05</td>\n",
       "      <td>6176.034566</td>\n",
       "    </tr>\n",
       "    <tr>\n",
       "      <th>75%</th>\n",
       "      <td>8183.475172</td>\n",
       "      <td>1.523558e+09</td>\n",
       "      <td>8200.133759</td>\n",
       "      <td>8163.923119</td>\n",
       "      <td>8183.832008</td>\n",
       "      <td>86.317418</td>\n",
       "      <td>3.994646e+05</td>\n",
       "      <td>8184.431215</td>\n",
       "    </tr>\n",
       "    <tr>\n",
       "      <th>max</th>\n",
       "      <td>19896.687300</td>\n",
       "      <td>1.536877e+09</td>\n",
       "      <td>19903.440214</td>\n",
       "      <td>19780.600000</td>\n",
       "      <td>19896.687300</td>\n",
       "      <td>2702.802346</td>\n",
       "      <td>1.730162e+07</td>\n",
       "      <td>19854.840682</td>\n",
       "    </tr>\n",
       "  </tbody>\n",
       "</table>\n",
       "</div>"
      ],
      "text/plain": [
       "              close          date          high           low          open  \\\n",
       "count  59196.000000  5.919600e+04  59196.000000  59196.000000  59196.000000   \n",
       "mean    5824.772890  1.510239e+09   5847.629526   5800.683728   5825.147580   \n",
       "std     3969.995954  1.537970e+07   3991.888425   3946.715239   3970.453571   \n",
       "min      756.000000  1.483601e+09    759.754000    751.000000    756.722973   \n",
       "25%     2317.000833  1.496920e+09   2327.000000   2305.515729   2317.287125   \n",
       "50%     6175.695720  1.510239e+09   6189.000000   6160.000000   6176.721392   \n",
       "75%     8183.475172  1.523558e+09   8200.133759   8163.923119   8183.832008   \n",
       "max    19896.687300  1.536877e+09  19903.440214  19780.600000  19896.687300   \n",
       "\n",
       "        quoteVolume        volume  weightedAverage  \n",
       "count  59196.000000  5.919600e+04     59196.000000  \n",
       "mean      71.028510  3.546225e+05      5824.271555  \n",
       "std      111.719318  6.284248e+05      3969.474450  \n",
       "min        0.000000  0.000000e+00       755.019113  \n",
       "25%       10.287996  4.287137e+04      2315.703750  \n",
       "50%       35.600170  1.531191e+05      6176.034566  \n",
       "75%       86.317418  3.994646e+05      8184.431215  \n",
       "max     2702.802346  1.730162e+07     19854.840682  "
      ]
     },
     "execution_count": 6,
     "metadata": {},
     "output_type": "execute_result"
    }
   ],
   "source": [
    "all_data.describe()"
   ]
  },
  {
   "cell_type": "markdown",
   "metadata": {},
   "source": [
    "Selects the appropriate amount of data from the full frame"
   ]
  },
  {
   "cell_type": "code",
   "execution_count": 7,
   "metadata": {
    "collapsed": true
   },
   "outputs": [],
   "source": [
    "_evaluated = [all_data[x*_subset_period:(x+1)*_subset_period] for x in range(_number_subsets)]"
   ]
  },
  {
   "cell_type": "markdown",
   "metadata": {},
   "source": [
    "Pulls the dates and prices from the data and creates the log and volatility columns"
   ]
  },
  {
   "cell_type": "code",
   "execution_count": 8,
   "metadata": {
    "collapsed": true
   },
   "outputs": [],
   "source": [
    "dfs = [pd.DataFrame(zip(x.date , x.close), columns=['ds','price']) for x in _evaluated]\n",
    "for x in range(_number_subsets):\n",
    "    dfs[x]['log'] = np.log(dfs[x]['price'])\n",
    "    dfs[x]['vol'] = dfs[x]['log'].rolling(_volatility_range).mean()"
   ]
  },
  {
   "cell_type": "markdown",
   "metadata": {},
   "source": [
    "Shows statistics for the three columns"
   ]
  },
  {
   "cell_type": "code",
   "execution_count": 9,
   "metadata": {},
   "outputs": [
    {
     "name": "stdout",
     "output_type": "stream",
     "text": [
      "                 ds        price        log       vol\n",
      "count  1.500000e+01    15.000000  15.000000  6.000000\n",
      "mean   1.483608e+09  1109.255494   7.011156  7.008853\n",
      "std    4.024922e+03    27.598496   0.024836  0.008731\n",
      "min    1.483601e+09  1067.000000   6.972606  6.997553\n",
      "25%    1.483605e+09  1086.900000   6.991085  7.002994\n",
      "50%    1.483608e+09  1093.851000   6.997460  7.008392\n",
      "75%    1.483611e+09  1136.696185   7.035881  7.014643\n",
      "max    1.483614e+09  1146.628895   7.044582  7.020858\n",
      "                 ds        price        log       vol\n",
      "count  1.500000e+01    15.000000  15.000000  6.000000\n",
      "mean   1.483621e+09  1000.989186   6.906807  6.897254\n",
      "std    4.024922e+03    64.973126   0.064187  0.024667\n",
      "min    1.483615e+09   921.120000   6.825590  6.866260\n",
      "25%    1.483618e+09   948.700000   6.855085  6.880073\n",
      "50%    1.483621e+09   974.597589   6.882025  6.895586\n",
      "75%    1.483624e+09  1071.080706   6.976423  6.913642\n",
      "max    1.483628e+09  1099.593509   7.002696  6.931528\n"
     ]
    }
   ],
   "source": [
    "for df in dfs:\n",
    "    print df.describe()"
   ]
  },
  {
   "cell_type": "markdown",
   "metadata": {},
   "source": [
    "Displays kurtosis for the three data sources"
   ]
  },
  {
   "cell_type": "markdown",
   "metadata": {},
   "source": [
    "Kurtosis for log and vol is relatively low indicating that there aren't many extrema."
   ]
  },
  {
   "cell_type": "code",
   "execution_count": 10,
   "metadata": {},
   "outputs": [
    {
     "name": "stdout",
     "output_type": "stream",
     "text": [
      "ds      -1.200000\n",
      "price   -1.646138\n",
      "log     -1.635911\n",
      "vol     -1.233750\n",
      "dtype: float64\n",
      "ds      -1.200000\n",
      "price   -1.632971\n",
      "log     -1.647914\n",
      "vol     -1.262494\n",
      "dtype: float64\n"
     ]
    }
   ],
   "source": [
    "for df in dfs:\n",
    "    print df.kurtosis()"
   ]
  },
  {
   "cell_type": "markdown",
   "metadata": {},
   "source": [
    "Displays skew for the three data sources"
   ]
  },
  {
   "cell_type": "markdown",
   "metadata": {},
   "source": [
    "The skew is positive meaning that that the the graph is asymmetric with a left weight"
   ]
  },
  {
   "cell_type": "code",
   "execution_count": 11,
   "metadata": {},
   "outputs": [
    {
     "name": "stdout",
     "output_type": "stream",
     "text": [
      "ds       0.000000\n",
      "price    0.194915\n",
      "log      0.176651\n",
      "vol      0.134015\n",
      "dtype: float64\n",
      "ds       0.000000\n",
      "price    0.468037\n",
      "log      0.434948\n",
      "vol      0.201862\n",
      "dtype: float64\n"
     ]
    }
   ],
   "source": [
    "for df in dfs:\n",
    "    print df.skew()"
   ]
  },
  {
   "cell_type": "markdown",
   "metadata": {},
   "source": [
    "Defines a method to extract and forecast the specified data stream"
   ]
  },
  {
   "cell_type": "code",
   "execution_count": null,
   "metadata": {
    "collapsed": true
   },
   "outputs": [],
   "source": [
    "def gen_prophets(field):\n",
    "    to_return = []\n",
    "    for df in dfs:\n",
    "        m = Prophet(changepoint_prior_scale=_change_flex)\n",
    "        df['y'] = df[field]\n",
    "        m.fit(df)\n",
    "        future = m.make_future_dataframe(periods=_forecast_distance)\n",
    "        forecast = m.predict(future)\n",
    "        forecast[['ds', 'yhat', 'yhat_lower', 'yhat_upper']].tail()\n",
    "        to_return.append({\"m\":m, \"f\":forecast})\n",
    "    return to_return"
   ]
  },
  {
   "cell_type": "code",
   "execution_count": null,
   "metadata": {
    "collapsed": true
   },
   "outputs": [],
   "source": [
    "prices = gen_prophets('price')"
   ]
  },
  {
   "cell_type": "code",
   "execution_count": null,
   "metadata": {
    "collapsed": true
   },
   "outputs": [],
   "source": [
    "for price in prices:\n",
    "    fig = price['m'].plot(price['f'])\n",
    "    a = add_changepoints_to_plot(fig.gca(), price['m'], price['f'])\n",
    "    fig.show()"
   ]
  },
  {
   "cell_type": "code",
   "execution_count": null,
   "metadata": {
    "collapsed": true
   },
   "outputs": [],
   "source": [
    "for price in prices:\n",
    "    fig = price['m'].plot_components(price['f'],uncertainty=True)\n",
    "    fig.show()"
   ]
  },
  {
   "cell_type": "code",
   "execution_count": null,
   "metadata": {
    "collapsed": true
   },
   "outputs": [],
   "source": [
    "logs = gen_prophets('log')"
   ]
  },
  {
   "cell_type": "code",
   "execution_count": null,
   "metadata": {
    "collapsed": true
   },
   "outputs": [],
   "source": [
    "for log in logs:\n",
    "    fig = log['m'].plot(log['f'])\n",
    "    a = add_changepoints_to_plot(fig.gca(), log['m'], log['f'])\n",
    "    fig.show()"
   ]
  },
  {
   "cell_type": "code",
   "execution_count": null,
   "metadata": {
    "collapsed": true
   },
   "outputs": [],
   "source": [
    "for log in logs:\n",
    "    fig = log['m'].plot_components(log['f'],uncertainty=True)\n",
    "    fig.show()"
   ]
  },
  {
   "cell_type": "code",
   "execution_count": null,
   "metadata": {
    "collapsed": true
   },
   "outputs": [],
   "source": [
    "vols = gen_prophets('vol')"
   ]
  },
  {
   "cell_type": "code",
   "execution_count": null,
   "metadata": {
    "collapsed": true
   },
   "outputs": [],
   "source": [
    "for vol in vols:\n",
    "    fig = vol['m'].plot(vol['f'])\n",
    "    a = add_changepoints_to_plot(fig.gca(), vol['m'], vol['f'])\n",
    "    fig.show()"
   ]
  },
  {
   "cell_type": "code",
   "execution_count": null,
   "metadata": {
    "collapsed": true
   },
   "outputs": [],
   "source": [
    "for vol in vols:\n",
    "    fig = vol['m'].plot_components(vol['f'],uncertainty=True)\n",
    "    fig.show()"
   ]
  },
  {
   "cell_type": "markdown",
   "metadata": {},
   "source": [
    "Defines method to plot the data with a red line and blue points overlayed"
   ]
  },
  {
   "cell_type": "code",
   "execution_count": null,
   "metadata": {
    "collapsed": true
   },
   "outputs": [],
   "source": [
    "def all_df(type):\n",
    "    to_return = []\n",
    "    for df in dfs:\n",
    "        to_return.extend(df[type])\n",
    "    return to_return\n",
    "\n",
    "def gen_line(type):\n",
    "    plt.plot(range(_subset_period*_number_subsets),list(all_df(type)),color='red',linewidth=2, zorder=1)\n",
    "    plt.scatter(range(_subset_period*_number_subsets), list(all_df(type)), s=40, zorder=2)"
   ]
  },
  {
   "cell_type": "code",
   "execution_count": null,
   "metadata": {
    "collapsed": true
   },
   "outputs": [],
   "source": [
    "plt.title(r'$Price\\ vs.\\ Date$', fontsize=20)\n",
    "plt.xlabel('time (d)')\n",
    "plt.ylabel('price ($)')\n",
    "gen_line('price')\n",
    "plt.show()"
   ]
  },
  {
   "cell_type": "code",
   "execution_count": null,
   "metadata": {
    "collapsed": true
   },
   "outputs": [],
   "source": [
    "plt.title(r'$Log\\  vs.\\ Date$', fontsize=20)\n",
    "plt.xlabel('time (d)')\n",
    "plt.ylabel('log ($)')\n",
    "gen_line('log')\n",
    "plt.show()"
   ]
  },
  {
   "cell_type": "code",
   "execution_count": null,
   "metadata": {
    "collapsed": true
   },
   "outputs": [],
   "source": [
    "plt.title(r'$Volatility\\  vs.\\ Date$', fontsize=20)\n",
    "plt.xlabel('time (d)')\n",
    "plt.ylabel('volatility ($)')\n",
    "gen_line('vol')\n",
    "plt.show()"
   ]
  }
 ],
 "metadata": {
  "kernelspec": {
   "display_name": "Python 2",
   "language": "python",
   "name": "python2"
  },
  "language_info": {
   "codemirror_mode": {
    "name": "ipython",
    "version": 2
   },
   "file_extension": ".py",
   "mimetype": "text/x-python",
   "name": "python",
   "nbconvert_exporter": "python",
   "pygments_lexer": "ipython2",
   "version": "2.7.14"
  }
 },
 "nbformat": 4,
 "nbformat_minor": 2
}
