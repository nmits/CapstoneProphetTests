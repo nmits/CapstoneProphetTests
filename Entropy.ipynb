{
 "cells": [
  {
   "cell_type": "code",
   "execution_count": 24,
   "metadata": {},
   "outputs": [
    {
     "data": {
      "application/javascript": [
       "IPython.OutputArea.prototype._should_scroll = function(lines) {\n",
       "    return false;\n",
       "}\n"
      ],
      "text/plain": [
       "<IPython.core.display.Javascript object>"
      ]
     },
     "metadata": {},
     "output_type": "display_data"
    }
   ],
   "source": [
    "%%javascript\n",
    "IPython.OutputArea.prototype._should_scroll = function(lines) {\n",
    "    return false;\n",
    "}"
   ]
  },
  {
   "cell_type": "code",
   "execution_count": 25,
   "metadata": {
    "collapsed": true
   },
   "outputs": [],
   "source": [
    "import pandas as pd\n",
    "import numpy as np\n",
    "import scipy.stats as sp_stats\n",
    "import requests\n",
    "from datetime import timedelta\n",
    "import matplotlib.pyplot as plt\n",
    "import time\n",
    "import math"
   ]
  },
  {
   "cell_type": "code",
   "execution_count": 26,
   "metadata": {
    "collapsed": true
   },
   "outputs": [],
   "source": [
    "POLONIEX_OHLCV_BASEURL = 'https://poloniex.com/public?command=returnChartData&currencyPair='\n",
    "\n",
    "\"\"\"\n",
    "https://poloniex.com/public?command=returnChartData&currencyPair=BTC_POT&start=1435699200&end=9999999999&period=14400\n",
    "\n",
    "\"\"\"\n",
    "\n",
    "def get_ohlcv_poloniex(pair='USDT_BTC', start=1435699200, end=9999999999, period=900):\n",
    "    \"\"\"\n",
    "    returns ohlcv data for poloniex as pandas dataframe\n",
    "    convert to unix timestamp using https://coderstoolbox.net/unixtimestamp/\n",
    "    :param pair: str pair on poloniex\n",
    "    :param start: int unix timestamp of beginning time\n",
    "    :param end: int unix timestamp of ending time\n",
    "    :param period: int candle width in seconds\n",
    "    :return: pandas df of ohlcv data from poloniex for specified pair, times, and period\n",
    "    \"\"\"\n",
    "    query = POLONIEX_OHLCV_BASEURL + pair + '&start=' + str(start) + '&end=' + str(end) + '&period=' + str(period)\n",
    "    resp = requests.get(query)\n",
    "\n",
    "    if resp.status_code != 200:\n",
    "        raise requests.ApiError('GET /tasks/ {}'.format(resp.status_code))\n",
    "\n",
    "    return pd.DataFrame(resp.json())"
   ]
  },
  {
   "cell_type": "code",
   "execution_count": 27,
   "metadata": {},
   "outputs": [
    {
     "name": "stdout",
     "output_type": "stream",
     "text": [
      "message: 01100001, entropy: 0.84\n"
     ]
    }
   ],
   "source": [
    "class EntropyEstimatorLz:\n",
    "    \"\"\"\n",
    "    Kontoyiannis' LZ entropy estimate, 2013 version (centered window). Inverse\n",
    "    of the avg length of the shortest non-redundant substring. If non-redundant\n",
    "    substrings are short, the text is highly entropic. window==None for\n",
    "    expanding window, in which case\n",
    "    len(msg) % 2 == 0\n",
    "    If the end of msg is more relevant, try estimate_entropy(msg[::-1])\n",
    "    \"\"\"\n",
    "    @classmethod\n",
    "    def estimate_entropy(cls, *args, **kwargs):\n",
    "        return cls.konto(*args, **kwargs)['h']\n",
    "\n",
    "    @classmethod\n",
    "    def konto(cls, msg, window=None):\n",
    "        \"\"\"\n",
    "        :param msg:\n",
    "        :param window:\n",
    "        :return:\n",
    "        \"\"\"\n",
    "        out = {'num': 0, 'sum': 0, 'sub_str': []}\n",
    "        if not isinstance(msg, str):\n",
    "            msg = ''.join(map(str, msg))\n",
    "\n",
    "        if window is None:\n",
    "            points = range(1, len(msg) // 2 + 1)\n",
    "\n",
    "        else:\n",
    "            window = min(window, len(msg) // 2)\n",
    "            points = range(window, len(msg) - window + 1)\n",
    "\n",
    "        for i in points:\n",
    "            if window is None:\n",
    "                l, msg_ = cls.match_length(msg, i, i)\n",
    "                out['sum'] += math.log2(i + 1) / l\n",
    "\n",
    "            else:\n",
    "                l, msg_ = cls.match_length(msg, i, window)\n",
    "                out['sum'] += math.log2(window + 1) / l\n",
    "\n",
    "            out['sub_str'].append(msg_)\n",
    "            out['num'] += 1\n",
    "\n",
    "        out['h'] = (out['sum'] / out['num']) / math.log(2)\n",
    "        out['r'] = 1 - out['h'] / math.log2(len(msg))  # redundancy, 0 <= r <= 1\n",
    "\n",
    "        return out\n",
    "\n",
    "    @staticmethod\n",
    "    def match_length(msg, i, n):\n",
    "        \"\"\"\n",
    "        Maximum matched length + 1, with overlap.\n",
    "        i >= n & len(msg) >= i + n\n",
    "        :param msg:\n",
    "        :param i:\n",
    "        :param n:\n",
    "        :return:\n",
    "        \"\"\"\n",
    "        sub_str = ''\n",
    "        for l in range(n):\n",
    "            msg1 = msg[i:i + l + 1]\n",
    "\n",
    "            for j in range(i - n, i):\n",
    "                msg0 = msg[j:j + l + 1]\n",
    "\n",
    "                if msg1 == msg0:\n",
    "                    sub_str = msg1\n",
    "                    break  # search for higher l.\n",
    "\n",
    "        return len(sub_str) + 1, sub_str  # matched length + 1\n",
    "\n",
    "\n",
    "if __name__ == '__main__':\n",
    "    # Messages produces entropies of 0.97 and 0.84 as highlighted in\n",
    "    # \"Advances in Financial Machine Learning\" section 18.4\n",
    "    for m in ('11100001', '01100001'):\n",
    "        h = EntropyEstimatorLz.estimate_entropy(m) * math.log(2)\n",
    "print('message: %s, entropy: %.2f' % (m, h))"
   ]
  },
  {
   "cell_type": "code",
   "execution_count": 28,
   "metadata": {
    "collapsed": true
   },
   "outputs": [],
   "source": [
    "def plugIn(msg, w):\n",
    "    # Compute plug-in (ML) entropy rate\n",
    "    pmf = pmf1(msg, w)\n",
    "    out = - sum([pmf[i] * np.log2(pmf[i]) for i in pmf]) / w\n",
    "    return out, pmf\n",
    "\n",
    "def pmf1(msg, w):\n",
    "    # Compute the prob mass function for a 1D discrete RV\n",
    "    # len(msg)-w occurances\n",
    "    lib = {}\n",
    "    if not isinstance(msg, str): msg = ''.join(map(str, msg))\n",
    "    for i in range(w, len(msg)):\n",
    "        msg_ = msg[i-w: i]\n",
    "        if msg_ not in lib: \n",
    "            lib[msg_] = [i-w]\n",
    "        else: \n",
    "            lib[msg_] = lib[msg_] + [i-w]\n",
    "    pmf = float(len(msg) - w)\n",
    "    pmf = {i: len(lib[i])/pmf for i in lib}\n",
    "    return pmf"
   ]
  },
  {
   "cell_type": "code",
   "execution_count": 29,
   "metadata": {
    "collapsed": true
   },
   "outputs": [],
   "source": [
    "def segment(total):\n",
    "    current_seg = []\n",
    "    len_seg = len(total)//1000\n",
    "    for item in total:\n",
    "        if len(current_seg) < len_seg:\n",
    "            current_seg.append(item)\n",
    "            continue\n",
    "        yield current_seg\n",
    "        current_seg = []"
   ]
  },
  {
   "cell_type": "code",
   "execution_count": 30,
   "metadata": {
    "collapsed": true
   },
   "outputs": [],
   "source": [
    "df = get_ohlcv_poloniex(pair='USDT_ETH', start=0, end=9999999999, period=900)\n",
    "df['ret'] = df['weightedAverage'].pct_change()\n",
    "df = df[df['ret'] != 0]\n",
    "df = df[df['ret'] != np.inf]\n",
    "df = df[df['ret'].notnull()]\n",
    "df['binary'] = df.apply(lambda row: int(row['ret']*(row['ret']-1) > 0), axis = 1)"
   ]
  },
  {
   "cell_type": "code",
   "execution_count": 31,
   "metadata": {},
   "outputs": [
    {
     "name": "stdout",
     "output_type": "stream",
     "text": [
      "96\n"
     ]
    }
   ],
   "source": [
    "partitions = segment(df['binary'])\n",
    "num_segments = len(df['binary'])//1000\n",
    "print(num_segments)"
   ]
  },
  {
   "cell_type": "code",
   "execution_count": 32,
   "metadata": {},
   "outputs": [
    {
     "name": "stdout",
     "output_type": "stream",
     "text": [
      "Plug in entropies\n"
     ]
    }
   ],
   "source": [
    "print(\"Plug in entropies\")\n",
    "# for part in partitions:\n",
    "#     print(part)\n",
    "#     print(str(plugIn(part, 10)[0]))\n",
    "results = pd.DataFrame()\n",
    "results['plug-in'] = [plugIn(part, 10)[0] for part in partitions]"
   ]
  },
  {
   "cell_type": "code",
   "execution_count": 33,
   "metadata": {},
   "outputs": [
    {
     "name": "stdout",
     "output_type": "stream",
     "text": [
      "Kontoyiannis’ method entropies using window size of 100\n"
     ]
    }
   ],
   "source": [
    "print(\"Kontoyiannis’ method entropies using window size of 100\")\n",
    "partitions = segment(df['binary'])\n",
    "# for part in partitions:\n",
    "#     print(part)\n",
    "#     print(\"binary: \" + str(EntropyEstimatorLz.estimate_entropy(part, window=100)))\n",
    "results['kontoyiannis'] = [EntropyEstimatorLz.estimate_entropy(part, window=100) for part in partitions]"
   ]
  },
  {
   "cell_type": "code",
   "execution_count": 34,
   "metadata": {},
   "outputs": [
    {
     "name": "stdout",
     "output_type": "stream",
     "text": [
      "0.056326387869459656\n"
     ]
    }
   ],
   "source": [
    "print(results['kontoyiannis'].corr(results['plug-in']))"
   ]
  }
 ],
 "metadata": {
  "kernelspec": {
   "display_name": "Python 3",
   "language": "python",
   "name": "python3"
  },
  "language_info": {
   "codemirror_mode": {
    "name": "ipython",
    "version": 3
   },
   "file_extension": ".py",
   "mimetype": "text/x-python",
   "name": "python",
   "nbconvert_exporter": "python",
   "pygments_lexer": "ipython3",
   "version": "3.6.3"
  }
 },
 "nbformat": 4,
 "nbformat_minor": 2
}
