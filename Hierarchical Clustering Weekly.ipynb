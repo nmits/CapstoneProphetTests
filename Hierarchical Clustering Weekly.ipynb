{
 "cells": [
  {
   "cell_type": "code",
   "execution_count": null,
   "metadata": {
    "collapsed": true
   },
   "outputs": [],
   "source": [
    "%matplotlib inline\n",
    "import sys\n",
    "import errno\n",
    "import pandas as pd\n",
    "import numpy as np\n",
    "from scipy import stats\n",
    "import scipy.cluster.hierarchy as hac\n",
    "from scipy.cluster.hierarchy import dendrogram\n",
    "from scipy.cluster.hierarchy import cophenet\n",
    "from scipy.spatial.distance import pdist\n",
    "from matplotlib import pyplot as plt\n",
    "from scipy.cluster.hierarchy import fcluster\n",
    "from collections import OrderedDict\n",
    "from matplotlib import pyplot as plt\n",
    "import warnings\n",
    "warnings.filterwarnings(\"ignore\")"
   ]
  },
  {
   "cell_type": "code",
   "execution_count": null,
   "metadata": {
    "collapsed": true
   },
   "outputs": [],
   "source": [
    "%matplotlib inline\n",
    "np.set_printoptions(precision=5, suppress=True)"
   ]
  },
  {
   "cell_type": "markdown",
   "metadata": {},
   "source": [
    "Pulls the data from the appropriate url and saves it as a data frame"
   ]
  },
  {
   "cell_type": "code",
   "execution_count": null,
   "metadata": {
    "collapsed": true
   },
   "outputs": [],
   "source": [
    "import requests\n",
    "\n",
    "POLONIEX_OHLCV_BASEURL = 'https://poloniex.com/public?command=returnChartData&currencyPair='\n",
    "\n",
    "def get_ohlcv_poloniex(pair='BTC_ETH', start=1435699200, end=9999999999, period=14400):\n",
    "    \"\"\"\n",
    "    returns ohlcv data for poloniex as pandas dataframe\n",
    "    convert to unix timestamp using https://coderstoolbox.net/unixtimestamp/\n",
    "    :param pair: str pair on poloniex\n",
    "    :param start: int unix timestamp of beginning time\n",
    "    :param end: int unix timestamp of ending time\n",
    "    :param period: int candle width in seconds\n",
    "    :return: pandas df of ohlcv data from poloniex for specified pair, times, and period\n",
    "    \"\"\"\n",
    "    query = POLONIEX_OHLCV_BASEURL + pair + '&start=' + str(start) + '&end=' + str(end) + '&period=' + str(period)\n",
    "    resp = requests.get(query)\n",
    "\n",
    "    if resp.status_code != 200:\n",
    "        raise requests.ApiError('GET /tasks/ {}'.format(resp.status_code))\n",
    "\n",
    "    return pd.DataFrame(resp.json())"
   ]
  },
  {
   "cell_type": "code",
   "execution_count": null,
   "metadata": {
    "collapsed": true
   },
   "outputs": [],
   "source": [
    "def get_pairs():\n",
    "    for pair in ['USDT_BTC','USDT_ETH', 'USDT_LTC', 'USDT_DASH', 'BTC_ETH', 'BTC_LTC', 'BTC_DASH']:\n",
    "        time_series = pd.DataFrame()\n",
    "        df = get_ohlcv_poloniex(pair=pair, start=1483600958, end=9999999999, period=86400)\n",
    "        df = df[df.index % 7 == 0]\n",
    "        df['pct_change'] = df['weightedAverage'].pct_change()\n",
    "        df['log_ret'] = np.log(df['weightedAverage']) - np.log(df['weightedAverage'].shift(1))\n",
    "        df[pair] = df['log_ret']\n",
    "        df = pd.DataFrame(df[pair])\n",
    "        time_series = pd.concat([time_series,df], axis=1)\n",
    "        time_series = time_series.iloc[1:]\n",
    "        yield time_series, pair\n",
    "    "
   ]
  },
  {
   "cell_type": "code",
   "execution_count": null,
   "metadata": {
    "collapsed": true
   },
   "outputs": [],
   "source": [
    "def generate_clusters(timeSeries, pair):\n",
    "    z_euclidean = hac.linkage(timeSeries, method='ward', metric='euclidean'),\"Euclidean\"\n",
    "    z_minkowski = hac.linkage(timeSeries, method='ward', metric='minkowski'),\"Minowski\"\n",
    "    z_cityblock = hac.linkage(timeSeries, method='ward', metric='cityblock'),\"Cityblock\"\n",
    "    z_cosine = hac.linkage(timeSeries, method='ward', metric='cosine'),\"Cosine\"\n",
    "    z_correlation = hac.linkage(timeSeries, method='ward', metric='correlation'),\"Correlation\"\n",
    "\n",
    "    p = 12\n",
    "    max_d = 50\n",
    "    \n",
    "    for z, name in [z_euclidean,z_minkowski,z_cityblock,z_cosine,z_correlation]:\n",
    "        print name\n",
    "        fancy_dendrogram(\n",
    "            z,\n",
    "            truncate_mode='lastp',\n",
    "            p=p,\n",
    "            leaf_rotation=90.,\n",
    "            leaf_font_size=12.,\n",
    "            show_contracted=True,\n",
    "            annotate_above=10,  # useful in small plots so annotations don't overlap\n",
    "            max_d=max_d,\n",
    "        )\n",
    "        plt.show()\n",
    "        \n",
    "        c, coph_dists = cophenet(z_euclidean, pdist(timeSeries))\n",
    "        print(name + \" Cophenetic Correlation Coefficient: \" + str(c))\n",
    "        \n",
    "    print(\"Euclidean Clusters\")\n",
    "    clusters = fcluster(z_euclidean, max_d, criterion='distance')\n",
    "    plt.figure(figsize=(10, 8))\n",
    "    ar = np.arange(len(timeSeries))\n",
    "    plt.scatter(timeSeries[pair], np.zeros_like(ar), c=clusters, cmap='prism')  # plot points with cluster dependent colors\n",
    "    plt.show()"
   ]
  },
  {
   "cell_type": "code",
   "execution_count": null,
   "metadata": {
    "collapsed": true
   },
   "outputs": [],
   "source": [
    "for series, pair in get_pairs():\n",
    "    generate_clusters(series, pair)"
   ]
  }
 ],
 "metadata": {
  "kernelspec": {
   "display_name": "Python 2",
   "language": "python",
   "name": "python2"
  },
  "language_info": {
   "codemirror_mode": {
    "name": "ipython",
    "version": 2
   },
   "file_extension": ".py",
   "mimetype": "text/x-python",
   "name": "python",
   "nbconvert_exporter": "python",
   "pygments_lexer": "ipython2",
   "version": "2.7.14"
  }
 },
 "nbformat": 4,
 "nbformat_minor": 2
}
